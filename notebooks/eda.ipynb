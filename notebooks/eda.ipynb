{
 "cells": [
  {
   "cell_type": "markdown",
   "id": "c6e5369d",
   "metadata": {},
   "source": [
    "Predict Dog Size / Breed Based on Traits"
   ]
  },
  {
   "cell_type": "code",
   "execution_count": 19,
   "id": "3c05e05b",
   "metadata": {},
   "outputs": [],
   "source": [
    "#Load and inspect dataset\n",
    "import pandas as pd\n",
    "\n",
    "# Load the dataset\n",
    "df = pd.read_csv('../data/dog_breeds_traits.csv')\n"
   ]
  },
  {
   "cell_type": "code",
   "execution_count": 20,
   "id": "76b90697",
   "metadata": {},
   "outputs": [
    {
     "name": "stdout",
     "output_type": "stream",
     "text": [
      "🔹 First 5 rows:\n",
      "                breed    size  energy_level  friendliness  trainability  \\\n",
      "0  Labrador Retriever   large             5             5             5   \n",
      "1           Chihuahua   small             4             3             2   \n",
      "2     German Shepherd   large             5             4             5   \n",
      "3              Beagle  medium             4             5             3   \n",
      "4   Poodle (Standard)  medium             3             5             5   \n",
      "\n",
      "   shedding  barking  lifespan  origin_country   breed_group  \n",
      "0         3        3        12          Canada      sporting  \n",
      "1         2        5        14          Mexico           toy  \n",
      "2         4        4        10         Germany       herding  \n",
      "3         3        5        13         England         hound  \n",
      "4         2        2        14  Germany/France  non-sporting  \n",
      "\n",
      "🔹 Dataset Info:\n",
      "<class 'pandas.core.frame.DataFrame'>\n",
      "RangeIndex: 20 entries, 0 to 19\n",
      "Data columns (total 10 columns):\n",
      " #   Column          Non-Null Count  Dtype \n",
      "---  ------          --------------  ----- \n",
      " 0   breed           20 non-null     object\n",
      " 1   size            20 non-null     object\n",
      " 2   energy_level    20 non-null     int64 \n",
      " 3   friendliness    20 non-null     int64 \n",
      " 4   trainability    20 non-null     int64 \n",
      " 5   shedding        20 non-null     int64 \n",
      " 6   barking         20 non-null     int64 \n",
      " 7   lifespan        20 non-null     int64 \n",
      " 8   origin_country  20 non-null     object\n",
      " 9   breed_group     20 non-null     object\n",
      "dtypes: int64(6), object(4)\n",
      "memory usage: 1.7+ KB\n",
      "None\n",
      "\n",
      "🔹 Missing values per column:\n",
      "breed             0\n",
      "size              0\n",
      "energy_level      0\n",
      "friendliness      0\n",
      "trainability      0\n",
      "shedding          0\n",
      "barking           0\n",
      "lifespan          0\n",
      "origin_country    0\n",
      "breed_group       0\n",
      "dtype: int64\n"
     ]
    }
   ],
   "source": [
    "# Show first 5 rows\n",
    "print(\"🔹 First 5 rows:\")\n",
    "print(df.head())\n",
    "\n",
    "# Dataset info\n",
    "print(\"\\n🔹 Dataset Info:\")\n",
    "print(df.info())\n",
    "\n",
    "# Check for missing values\n",
    "print(\"\\n🔹 Missing values per column:\")\n",
    "print(df.isnull().sum())"
   ]
  },
  {
   "cell_type": "code",
   "execution_count": 21,
   "id": "8fb2b5bb",
   "metadata": {},
   "outputs": [
    {
     "name": "stdout",
     "output_type": "stream",
     "text": [
      "🔹 Preprocessed Data Sample:\n",
      "   energy_level  friendliness  trainability  shedding  barking  lifespan  \\\n",
      "0             5             5             5         3        3        12   \n",
      "1             4             3             2         2        5        14   \n",
      "2             5             4             5         4        4        10   \n",
      "3             4             5             3         3        5        13   \n",
      "4             3             5             5         2        2        14   \n",
      "\n",
      "   size_encoded  breed_group_hound  breed_group_non-sporting  \\\n",
      "0             0              False                     False   \n",
      "1             2              False                     False   \n",
      "2             0              False                     False   \n",
      "3             1               True                     False   \n",
      "4             1              False                      True   \n",
      "\n",
      "   breed_group_sporting  breed_group_toy  breed_group_working  \n",
      "0                  True            False                False  \n",
      "1                 False             True                False  \n",
      "2                 False            False                False  \n",
      "3                 False            False                False  \n",
      "4                 False            False                False  \n"
     ]
    }
   ],
   "source": [
    "from sklearn.preprocessing import LabelEncoder\n",
    "\n",
    "# Copy the original dataframe\n",
    "data = df.copy()\n",
    "\n",
    "# Encode target variable (size: small, medium, large → 0,1,2)\n",
    "size_encoder = LabelEncoder()\n",
    "data['size_encoded'] = size_encoder.fit_transform(data['size'])\n",
    "\n",
    "# Drop columns that wont be used for modeling\n",
    "data = data.drop(['breed', 'size', 'origin_country'], axis=1)\n",
    "\n",
    "# One-hot encode 'breed_group'\n",
    "data = pd.get_dummies(data, columns=['breed_group'], drop_first=True)\n",
    "\n",
    "# Show the preprocessed dataframe\n",
    "print(\"🔹 Preprocessed Data Sample:\")\n",
    "print(data.head())\n",
    "\n",
    "# Separate features and target\n",
    "X = data.drop('size_encoded', axis=1)\n",
    "y = data['size_encoded']\n"
   ]
  },
  {
   "cell_type": "code",
   "execution_count": 22,
   "id": "fe01b945",
   "metadata": {},
   "outputs": [
    {
     "name": "stdout",
     "output_type": "stream",
     "text": [
      "🔹 Classification Report:\n",
      "              precision    recall  f1-score   support\n",
      "\n",
      "       large       1.00      1.00      1.00         2\n",
      "      medium       0.00      0.00      0.00         0\n",
      "       small       1.00      1.00      1.00         2\n",
      "\n",
      "    accuracy                           1.00         4\n",
      "   macro avg       0.67      0.67      0.67         4\n",
      "weighted avg       1.00      1.00      1.00         4\n",
      "\n"
     ]
    },
    {
     "name": "stderr",
     "output_type": "stream",
     "text": [
      "C:\\Users\\Vidura\\AppData\\Roaming\\Python\\Python313\\site-packages\\sklearn\\metrics\\_classification.py:1706: UndefinedMetricWarning: Precision is ill-defined and being set to 0.0 in labels with no predicted samples. Use `zero_division` parameter to control this behavior.\n",
      "  _warn_prf(average, modifier, f\"{metric.capitalize()} is\", result.shape[0])\n",
      "C:\\Users\\Vidura\\AppData\\Roaming\\Python\\Python313\\site-packages\\sklearn\\metrics\\_classification.py:1706: UndefinedMetricWarning: Recall is ill-defined and being set to 0.0 in labels with no true samples. Use `zero_division` parameter to control this behavior.\n",
      "  _warn_prf(average, modifier, f\"{metric.capitalize()} is\", result.shape[0])\n",
      "C:\\Users\\Vidura\\AppData\\Roaming\\Python\\Python313\\site-packages\\sklearn\\metrics\\_classification.py:1706: UndefinedMetricWarning: F-score is ill-defined and being set to 0.0 in labels with no true nor predicted samples. Use `zero_division` parameter to control this behavior.\n",
      "  _warn_prf(average, modifier, f\"{metric.capitalize()} is\", result.shape[0])\n",
      "C:\\Users\\Vidura\\AppData\\Roaming\\Python\\Python313\\site-packages\\sklearn\\metrics\\_classification.py:1706: UndefinedMetricWarning: Precision is ill-defined and being set to 0.0 in labels with no predicted samples. Use `zero_division` parameter to control this behavior.\n",
      "  _warn_prf(average, modifier, f\"{metric.capitalize()} is\", result.shape[0])\n",
      "C:\\Users\\Vidura\\AppData\\Roaming\\Python\\Python313\\site-packages\\sklearn\\metrics\\_classification.py:1706: UndefinedMetricWarning: Recall is ill-defined and being set to 0.0 in labels with no true samples. Use `zero_division` parameter to control this behavior.\n",
      "  _warn_prf(average, modifier, f\"{metric.capitalize()} is\", result.shape[0])\n",
      "C:\\Users\\Vidura\\AppData\\Roaming\\Python\\Python313\\site-packages\\sklearn\\metrics\\_classification.py:1706: UndefinedMetricWarning: F-score is ill-defined and being set to 0.0 in labels with no true nor predicted samples. Use `zero_division` parameter to control this behavior.\n",
      "  _warn_prf(average, modifier, f\"{metric.capitalize()} is\", result.shape[0])\n",
      "C:\\Users\\Vidura\\AppData\\Roaming\\Python\\Python313\\site-packages\\sklearn\\metrics\\_classification.py:1706: UndefinedMetricWarning: Precision is ill-defined and being set to 0.0 in labels with no predicted samples. Use `zero_division` parameter to control this behavior.\n",
      "  _warn_prf(average, modifier, f\"{metric.capitalize()} is\", result.shape[0])\n",
      "C:\\Users\\Vidura\\AppData\\Roaming\\Python\\Python313\\site-packages\\sklearn\\metrics\\_classification.py:1706: UndefinedMetricWarning: Recall is ill-defined and being set to 0.0 in labels with no true samples. Use `zero_division` parameter to control this behavior.\n",
      "  _warn_prf(average, modifier, f\"{metric.capitalize()} is\", result.shape[0])\n",
      "C:\\Users\\Vidura\\AppData\\Roaming\\Python\\Python313\\site-packages\\sklearn\\metrics\\_classification.py:1706: UndefinedMetricWarning: F-score is ill-defined and being set to 0.0 in labels with no true nor predicted samples. Use `zero_division` parameter to control this behavior.\n",
      "  _warn_prf(average, modifier, f\"{metric.capitalize()} is\", result.shape[0])\n"
     ]
    }
   ],
   "source": [
    "from sklearn.model_selection import train_test_split\n",
    "from sklearn.ensemble import RandomForestClassifier\n",
    "from sklearn.metrics import classification_report\n",
    "\n",
    "# Split data (80% train, 20% test)\n",
    "X_train, X_test, y_train, y_test = train_test_split(X, y, test_size=0.2, random_state=42)\n",
    "\n",
    "# Train Random Forest\n",
    "model = RandomForestClassifier(random_state=42)\n",
    "model.fit(X_train, y_train)\n",
    "\n",
    "# Predict\n",
    "y_pred = model.predict(X_test)\n",
    "\n",
    "# Evaluate\n",
    "# Get all possible class labels (0, 1, 2)\n",
    "labels = [0, 1, 2]  #['large', 'medium', 'small']\n",
    "\n",
    "target_names = size_encoder.inverse_transform(labels)\n",
    "\n",
    "# print classification report\n",
    "print(\"🔹 Classification Report:\")\n",
    "print(classification_report(y_test, y_pred, labels=labels, target_names=target_names))\n"
   ]
  },
  {
   "cell_type": "code",
   "execution_count": 23,
   "id": "0cdbdf38",
   "metadata": {},
   "outputs": [
    {
     "data": {
      "image/png": "[encoded data removed]",
      "text/plain": [
       "<Figure size 1000x600 with 1 Axes>"
      ]
     },
     "metadata": {},
     "output_type": "display_data"
    }
   ],
   "source": [
    "from sklearn.ensemble import RandomForestClassifier\n",
    "import matplotlib.pyplot as plt\n",
    "\n",
    "# Train a Random Forest model\n",
    "rf_model = RandomForestClassifier(random_state=42)\n",
    "rf_model.fit(X_train, y_train)\n",
    "\n",
    "# Get feature importances\n",
    "importances = rf_model.feature_importances_\n",
    "feature_names = X.columns\n",
    "\n",
    "# Sort features by importance\n",
    "sorted_idx = importances.argsort()[::-1]\n",
    "\n",
    "# Plot\n",
    "plt.figure(figsize=(10, 6))\n",
    "plt.barh(range(len(importances)), importances[sorted_idx], align='center')\n",
    "plt.yticks(range(len(importances)), [feature_names[i] for i in sorted_idx])\n",
    "plt.xlabel(\"Feature Importance\")\n",
    "plt.title(\"Random Forest - Feature Importance\")\n",
    "plt.gca().invert_yaxis()\n",
    "plt.tight_layout()\n",
    "plt.show()\n"
   ]
  },
  {
   "cell_type": "code",
   "execution_count": 24,
   "id": "4c3e68ca",
   "metadata": {},
   "outputs": [],
   "source": [
    "def predict_dog_size(traits_dict):\n",
    "    \"\"\"\n",
    "    Predicts dog size from a dictionary of traits.\n",
    "    \"\"\"\n",
    "    input_df = pd.DataFrame([traits_dict])\n",
    "\n",
    "    # Make sure all columns match the training data\n",
    "    for col in X.columns:\n",
    "        if col not in input_df.columns:\n",
    "            input_df[col] = 0  # default for one-hot or missing\n",
    "\n",
    "    # Reorder columns to match training data exactly\n",
    "    input_df = input_df[X.columns]\n",
    "\n",
    "    # Predict and decode the label\n",
    "    prediction_encoded = rf_model.predict(input_df)[0]\n",
    "    prediction_label = size_encoder.inverse_transform([prediction_encoded])[0]\n",
    "    return prediction_label\n"
   ]
  },
  {
   "cell_type": "code",
   "execution_count": 25,
   "id": "5f11c8a5",
   "metadata": {},
   "outputs": [
    {
     "name": "stdout",
     "output_type": "stream",
     "text": [
      "🐶 Predicted Dog Size: small\n"
     ]
    }
   ],
   "source": [
    "# Example usage\n",
    "sample_traits = {\n",
    "    'lifespan': 13,\n",
    "    'barking': 2,\n",
    "    'shedding': 2,\n",
    "    'energy': 3,\n",
    "    'trainability': 4,\n",
    "    'protectiveness': 3,\n",
    "    'good_with_kids': 4\n",
    "}\n",
    "\n",
    "predicted_size = predict_dog_size(sample_traits)\n",
    "print(f\"🐶 Predicted Dog Size: {predicted_size}\")\n"
   ]
  },
  {
   "cell_type": "code",
   "execution_count": 26,
   "id": "c79bc147",
   "metadata": {},
   "outputs": [
    {
     "name": "stdout",
     "output_type": "stream",
     "text": [
      "✅ Model, encoder, and feature columns saved!\n"
     ]
    }
   ],
   "source": [
    "import joblib\n",
    "\n",
    "# Save the Random Forest model\n",
    "joblib.dump(rf_model, '../models/rf_model.pkl')\n",
    "\n",
    "# Save the Label Encoder\n",
    "joblib.dump(size_encoder, '../models/size_encoder.pkl')\n",
    "\n",
    "# Save the feature columns (list of column names)\n",
    "feature_cols = list(X.columns)\n",
    "joblib.dump(feature_cols, '../models/feature_columns.pkl')\n",
    "\n",
    "print(\"✅ Model, encoder, and feature columns saved!\")\n"
   ]
  }
 ],
 "metadata": {
  "kernelspec": {
   "display_name": "Python 3",
   "language": "python",
   "name": "python3"
  },
  "language_info": {
   "codemirror_mode": {
    "name": "ipython",
    "version": 3
   },
   "file_extension": ".py",
   "mimetype": "text/x-python",
   "name": "python",
   "nbconvert_exporter": "python",
   "pygments_lexer": "ipython3",
   "version": "3.13.5"
  }
 },
 "nbformat": 4,
 "nbformat_minor": 5
}
